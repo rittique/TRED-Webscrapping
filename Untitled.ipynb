{
 "cells": [
  {
   "cell_type": "code",
   "execution_count": null,
   "id": "3268e664",
   "metadata": {},
   "outputs": [],
   "source": [
    "pip install selenium"
   ]
  },
  {
   "cell_type": "code",
   "execution_count": null,
   "id": "31ded6c4",
   "metadata": {},
   "outputs": [],
   "source": [
    "from selenium import webdriver\n",
    "from selenium.webdriver.common.keys import Keys\n",
    "from selenium.webdriver.common.by import By\n",
    "from selenium.webdriver.support.ui import WebDriverWait\n",
    "from selenium.webdriver.support import expected_conditions as EC\n",
    "import time"
   ]
  },
  {
   "cell_type": "code",
   "execution_count": null,
   "id": "e45e0fe5",
   "metadata": {},
   "outputs": [],
   "source": [
    "path = 'C:\\Program Files (x86)\\chromedriver.exe'"
   ]
  },
  {
   "cell_type": "code",
   "execution_count": null,
   "id": "96960718",
   "metadata": {},
   "outputs": [],
   "source": [
    "driver = webdriver.Chrome(path)\n",
    "\n",
    "driver.get(\"https://www.tred.com/buy?body_style=&amp;distance=50&amp;exterior_color_id=&amp;make=&amp;miles_max=100000&amp;miles_min=0&amp;model=&amp;page_size=24&amp;price_max=100000&amp;price_min=0&amp;query=&amp;requestingPage=buy&amp;sort=desc&amp;sort_field=updated&amp;status=active&amp;year_end=2022&amp;year_start=1998&amp;zip=\")"
   ]
  },
  {
   "cell_type": "code",
   "execution_count": null,
   "id": "fc985a64",
   "metadata": {},
   "outputs": [],
   "source": [
    "print(driver.title)    "
   ]
  },
  {
   "cell_type": "code",
   "execution_count": null,
   "id": "2dcc410e",
   "metadata": {},
   "outputs": [],
   "source": [
    "#driver.close()"
   ]
  },
  {
   "cell_type": "code",
   "execution_count": null,
   "id": "d1c40463",
   "metadata": {},
   "outputs": [],
   "source": [
    "radius = driver.find_element_by_css_selector(\"select.form-control\") \n",
    "zip_code = driver.find_element_by_css_selector(\"input.form-control\") "
   ]
  },
  {
   "cell_type": "code",
   "execution_count": null,
   "id": "b4744a95",
   "metadata": {},
   "outputs": [],
   "source": [
    "radius.send_keys(\"300 mi.\") #set redius\n",
    "zip_code.send_keys(\"90001\") # set zip code\n",
    "zip_code.send_keys(Keys.RETURN) #return the values to the page"
   ]
  },
  {
   "cell_type": "code",
   "execution_count": null,
   "id": "22320df6",
   "metadata": {},
   "outputs": [],
   "source": [
    "cars = driver.find_elements_by_class_name(\"card\")\n",
    "#grid-car col-md-4 col-sm-6 col-xs-6\n",
    "\n",
    "for car in cars:\n",
    "    item = driver.find_element_by_tag_name('a') #select car ad\n",
    "    item.click() #click on the car ad\n",
    "    \n",
    "    #get all the data from the page\n",
    "    try:\n",
    "        name = WebDriverWait(driver, 10).until(EC.presence_of_element_located((By.CLASS_NAME, 'bigger small-top-margin visible-xs')))\n",
    "        print(name.text)\n",
    "    except:\n",
    "        pass\n",
    "\n",
    "    try:\n",
    "        price = WebDriverWait(driver, 10).until(EC.presence_of_element_located((By.XPATH, '//*[@id=\"header-box\"]/div/div/div[2]/div/div/h2')))\n",
    "        print(price.text)\n",
    "    except:\n",
    "        pass\n",
    "\n",
    "    try:\n",
    "        summary = WebDriverWait(driver, 10).until(EC.presence_of_element_located((By.XPATH, '//*[@id=\"summary-table\"]')))\n",
    "        print(summary.text)\n",
    "    except:\n",
    "        pass\n",
    "\n",
    "    try:\n",
    "        options = WebDriverWait(driver, 10).until(EC.presence_of_element_located((By.XPATH, '//*[@id=\"options-table\"]')))\n",
    "        print(options.text)\n",
    "    except:\n",
    "        pass\n",
    "    \n",
    "    #get back to previous page\n",
    "    try:\n",
    "        driver.execute_script(\"window.history.go(-1)\")\n",
    "    except:\n",
    "        driver.back()"
   ]
  },
  {
   "cell_type": "code",
   "execution_count": null,
   "id": "606c62ca",
   "metadata": {},
   "outputs": [],
   "source": [
    "\n",
    " "
   ]
  },
  {
   "cell_type": "code",
   "execution_count": null,
   "id": "be76fd7f",
   "metadata": {},
   "outputs": [],
   "source": [
    "\"\"\"\n",
    "\n",
    "item = driver.find_element_by_class_name('grid-box-container')\n",
    "item.click()\n",
    "\n",
    "try:\n",
    "    name = WebDriverWait(driver, 10).until(EC.presence_of_element_located((By.XPATH, '//*[@id=\"react\"]/div/div/div[2]/div[5]/div[2]/div/h1[2]')))\n",
    "    #//*[@id=\"react\"]/div/div/div[2]/div[5]/div[2]/div/h1[2]\n",
    "    print(name.text)\n",
    "except:\n",
    "    pass\n",
    "\n",
    "try:\n",
    "    price = WebDriverWait(driver, 10).until(EC.presence_of_element_located((By.XPATH, '//*[@id=\"header-box\"]/div/div/div[2]/div/div/h2')))\n",
    "    print(price.text)\n",
    "except:\n",
    "    pass\n",
    "\n",
    "try:\n",
    "    summary = WebDriverWait(driver, 10).until(EC.presence_of_element_located((By.XPATH, '//*[@id=\"summary-table\"]')))\n",
    "    print(summary.text)\n",
    "except:\n",
    "    pass\n",
    "\n",
    "try:\n",
    "    options = WebDriverWait(driver, 10).until(EC.presence_of_element_located((By.XPATH, '//*[@id=\"options-table\"]')))\n",
    "    print(options.text)\n",
    "except:\n",
    "    pass\n",
    "\n",
    "\n",
    "driver.execute_script(\"window.history.go(-1)\")\n",
    "\"\"\"\n"
   ]
  },
  {
   "cell_type": "code",
   "execution_count": null,
   "id": "bc248f09",
   "metadata": {},
   "outputs": [],
   "source": []
  }
 ],
 "metadata": {
  "kernelspec": {
   "display_name": "Python 3",
   "language": "python",
   "name": "python3"
  },
  "language_info": {
   "codemirror_mode": {
    "name": "ipython",
    "version": 3
   },
   "file_extension": ".py",
   "mimetype": "text/x-python",
   "name": "python",
   "nbconvert_exporter": "python",
   "pygments_lexer": "ipython3",
   "version": "3.8.8"
  }
 },
 "nbformat": 4,
 "nbformat_minor": 5
}
